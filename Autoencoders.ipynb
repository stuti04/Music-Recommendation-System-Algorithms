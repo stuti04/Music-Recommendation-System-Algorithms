{
 "cells": [
  {
   "cell_type": "code",
   "execution_count": null,
   "metadata": {
    "colab": {
     "base_uri": "https://localhost:8080/",
     "height": 89
    },
    "executionInfo": {
     "elapsed": 2645,
     "status": "ok",
     "timestamp": 1601654506207,
     "user": {
      "displayName": "sainaya brid",
      "photoUrl": "",
      "userId": "16636977104828441428"
     },
     "user_tz": -330
    },
    "id": "C9pddF6sdvnO",
    "outputId": "bb761f03-2aff-46dc-b849-a834542c93bc"
   },
   "outputs": [],
   "source": [
    "from __future__ import print_function, division\n",
    "from builtins import range, input\n",
    "\n",
    "import numpy as np\n",
    "import pandas as pd\n",
    "import matplotlib.pyplot as plt\n",
    "from sklearn.utils import shuffle\n",
    "from scipy.sparse import lil_matrix, csr_matrix, save_npz, load_npz\n",
    "\n",
    "import keras.backend as K\n",
    "from keras.models import Model\n",
    "from keras.layers import Input, Dropout, Dense\n",
    "from keras.regularizers import l2\n",
    "from keras.optimizers import SGD\n",
    "\n",
    "import tensorflow.compat.v1 as tf\n",
    "tf.disable_v2_behavior() \n",
    "\n",
    "from tqdm import tqdm"
   ]
  },
  {
   "cell_type": "code",
   "execution_count": null,
   "metadata": {
    "colab": {
     "base_uri": "https://localhost:8080/",
     "height": 415
    },
    "executionInfo": {
     "elapsed": 29245,
     "status": "ok",
     "timestamp": 1601654532816,
     "user": {
      "displayName": "sainaya brid",
      "photoUrl": "",
      "userId": "16636977104828441428"
     },
     "user_tz": -330
    },
    "id": "fFh6Zjzfekcz",
    "outputId": "89f82f74-09ec-4971-9640-c6695f3cbc4f"
   },
   "outputs": [],
   "source": [
    "# load in the data\n",
    "df = pd.read_csv('usersha1-artmbid-artname-plays.tsv', sep='\\t')\n",
    "#df = pd.read_csv('../large_files/movielens-20m-dataset/small_rating.csv')\n",
    "df"
   ]
  },
  {
   "cell_type": "code",
   "execution_count": null,
   "metadata": {
    "colab": {
     "base_uri": "https://localhost:8080/",
     "height": 415
    },
    "executionInfo": {
     "elapsed": 32462,
     "status": "ok",
     "timestamp": 1601654536040,
     "user": {
      "displayName": "sainaya brid",
      "photoUrl": "",
      "userId": "16636977104828441428"
     },
     "user_tz": -330
    },
    "id": "OThPURL_kKUU",
    "outputId": "7c39af61-7dcf-4eba-882d-ce9408c91df3"
   },
   "outputs": [],
   "source": [
    "# Add column names\n",
    "df = df.drop(df.columns[1], axis=1)\n",
    "df.columns = ['user', 'artist', 'plays']\n",
    "\n",
    "# Drop any rows with missing values\n",
    "df = df.dropna()\n",
    "df"
   ]
  },
  {
   "cell_type": "code",
   "execution_count": null,
   "metadata": {
    "colab": {
     "base_uri": "https://localhost:8080/",
     "height": 415
    },
    "executionInfo": {
     "elapsed": 39791,
     "status": "ok",
     "timestamp": 1601654543375,
     "user": {
      "displayName": "sainaya brid",
      "photoUrl": "",
      "userId": "16636977104828441428"
     },
     "user_tz": -330
    },
    "id": "cyZxkNEIkQr4",
    "outputId": "1cdb0478-8adf-4ebe-8c64-dda41d3e9e58"
   },
   "outputs": [],
   "source": [
    "# Convert artists names into numerical IDs\n",
    "df['user_id'] = df['user'].astype(\"category\").cat.codes\n",
    "df['artist_id'] = df['artist'].astype(\"category\").cat.codes\n",
    "\n",
    "# Create a lookup frame so we can get the artist\n",
    "# names back in readable form later.\n",
    "item_lookup = df[['artist_id', 'artist']].drop_duplicates()\n",
    "item_lookup['artist_id'] = item_lookup.artist_id.astype(str)\n",
    "\n",
    "# We drop our old user and artist columns\n",
    "df = df.drop(['user', 'artist'], axis=1)\n",
    "df"
   ]
  },
  {
   "cell_type": "code",
   "execution_count": null,
   "metadata": {
    "executionInfo": {
     "elapsed": 39789,
     "status": "ok",
     "timestamp": 1601654543376,
     "user": {
      "displayName": "sainaya brid",
      "photoUrl": "",
      "userId": "16636977104828441428"
     },
     "user_tz": -330
    },
    "id": "pOnq8u6resGK"
   },
   "outputs": [],
   "source": [
    "N = df.user_id.max() + 1 # number of users\n",
    "M = df.artist_id.max() + 1 # number of movies\n"
   ]
  },
  {
   "cell_type": "code",
   "execution_count": null,
   "metadata": {
    "colab": {
     "base_uri": "https://localhost:8080/",
     "height": 35
    },
    "executionInfo": {
     "elapsed": 39782,
     "status": "ok",
     "timestamp": 1601654543376,
     "user": {
      "displayName": "sainaya brid",
      "photoUrl": "",
      "userId": "16636977104828441428"
     },
     "user_tz": -330
    },
    "id": "c0ePMUV15gTr",
    "outputId": "d1ea920f-f119-4225-9b7d-7af1f54abde7"
   },
   "outputs": [],
   "source": [
    "N"
   ]
  },
  {
   "cell_type": "code",
   "execution_count": null,
   "metadata": {
    "colab": {
     "base_uri": "https://localhost:8080/",
     "height": 35
    },
    "executionInfo": {
     "elapsed": 39775,
     "status": "ok",
     "timestamp": 1601654543377,
     "user": {
      "displayName": "sainaya brid",
      "photoUrl": "",
      "userId": "16636977104828441428"
     },
     "user_tz": -330
    },
    "id": "g7YG1n1u5j7J",
    "outputId": "8eec127a-154c-421a-aaf5-dfd4115fc444"
   },
   "outputs": [],
   "source": [
    "M = int(M)\n",
    "M"
   ]
  },
  {
   "cell_type": "code",
   "execution_count": null,
   "metadata": {
    "executionInfo": {
     "elapsed": 41905,
     "status": "ok",
     "timestamp": 1601654545511,
     "user": {
      "displayName": "sainaya brid",
      "photoUrl": "",
      "userId": "16636977104828441428"
     },
     "user_tz": -330
    },
    "id": "lE9goCmxe6j_"
   },
   "outputs": [],
   "source": [
    "# split into train and test\n",
    "df = shuffle(df)\n",
    "cutoff = int(0.8*len(df))\n",
    "df_train = df.iloc[:cutoff]\n",
    "df_test = df.iloc[cutoff:]\n"
   ]
  },
  {
   "cell_type": "code",
   "execution_count": null,
   "metadata": {
    "colab": {
     "base_uri": "https://localhost:8080/",
     "height": 1000
    },
    "executionInfo": {
     "elapsed": 426509,
     "status": "ok",
     "timestamp": 1601654930121,
     "user": {
      "displayName": "sainaya brid",
      "photoUrl": "",
      "userId": "16636977104828441428"
     },
     "user_tz": -330
    },
    "id": "50qiQG1-fH3u",
    "outputId": "56717ddd-f711-4772-f2be-68fd7283554b",
    "scrolled": false
   },
   "outputs": [],
   "source": [
    "A = lil_matrix((N, M))\n",
    "print(\"Calling: update_train\")\n",
    "count = 0\n",
    "def update_train(row):\n",
    "  global count\n",
    "  count += 1\n",
    "  if count % 100000 == 0:\n",
    "    print(\"processed: %.3f\" % (float(count)/cutoff))\n",
    "\n",
    "  i = int(row.user_id)\n",
    "  j = int(row.artist_id)\n",
    "  A[i,j] = row.plays\n",
    "  \n",
    "df_train.apply(update_train, axis=1)\n"
   ]
  },
  {
   "cell_type": "code",
   "execution_count": null,
   "metadata": {
    "executionInfo": {
     "elapsed": 447151,
     "status": "ok",
     "timestamp": 1601654950765,
     "user": {
      "displayName": "sainaya brid",
      "photoUrl": "",
      "userId": "16636977104828441428"
     },
     "user_tz": -330
    },
    "id": "-IuTLmM-fM4Z"
   },
   "outputs": [],
   "source": [
    "# mask, to tell us which entries exist and which do not\n",
    "A = A.tocsr()\n",
    "mask = (A > 0)\n",
    "save_npz(\"Atrain.npz\", A)\n"
   ]
  },
  {
   "cell_type": "code",
   "execution_count": null,
   "metadata": {
    "colab": {
     "base_uri": "https://localhost:8080/",
     "height": 849
    },
    "executionInfo": {
     "elapsed": 544781,
     "status": "ok",
     "timestamp": 1601655048401,
     "user": {
      "displayName": "sainaya brid",
      "photoUrl": "",
      "userId": "16636977104828441428"
     },
     "user_tz": -330
    },
    "id": "fhUYF844fPba",
    "outputId": "26dae9ff-3387-4a82-f942-027827e20202"
   },
   "outputs": [],
   "source": [
    "# test ratings dictionary\n",
    "A_test = lil_matrix((N, M))\n",
    "print(\"Calling: update_test\")\n",
    "count = 0\n",
    "def update_test(row):\n",
    "  global count\n",
    "  count += 1\n",
    "  if count % 100000 == 0:\n",
    "    print(\"processed: %.3f\" % (float(count)/len(df_test)))\n",
    "\n",
    "  i = int(row.user_id)\n",
    "  j = int(row.artist_id)\n",
    "  A_test[i,j] = row.plays\n",
    "df_test.apply(update_test, axis=1)\n"
   ]
  },
  {
   "cell_type": "code",
   "execution_count": null,
   "metadata": {
    "executionInfo": {
     "elapsed": 550900,
     "status": "ok",
     "timestamp": 1601655054522,
     "user": {
      "displayName": "sainaya brid",
      "photoUrl": "",
      "userId": "16636977104828441428"
     },
     "user_tz": -330
    },
    "id": "qh1BF4Nx9jLN"
   },
   "outputs": [],
   "source": [
    "A_test = A_test.tocsr()\n",
    "mask_test = (A_test > 0)\n",
    "save_npz(\"Atest.npz\", A_test)"
   ]
  },
  {
   "cell_type": "code",
   "execution_count": null,
   "metadata": {
    "executionInfo": {
     "elapsed": 550899,
     "status": "ok",
     "timestamp": 1601655054524,
     "user": {
      "displayName": "sainaya brid",
      "photoUrl": "",
      "userId": "16636977104828441428"
     },
     "user_tz": -330
    },
    "id": "gedrZ69W_3S0"
   },
   "outputs": [],
   "source": [
    "batch_size = \n",
    "epochs = 10\n",
    "reg = 0.001\n",
    "# reg = 0"
   ]
  },
  {
   "cell_type": "code",
   "execution_count": null,
   "metadata": {
    "executionInfo": {
     "elapsed": 552142,
     "status": "ok",
     "timestamp": 1601655055769,
     "user": {
      "displayName": "sainaya brid",
      "photoUrl": "",
      "userId": "16636977104828441428"
     },
     "user_tz": -330
    },
    "id": "RD5svXUkAKOj"
   },
   "outputs": [],
   "source": [
    "A = load_npz(\"Atrain.npz\")\n",
    "A_test = load_npz(\"Atest.npz\")\n",
    "mask = (A > 0) * 1.0\n",
    "mask_test = (A_test > 0) * 1.0\n"
   ]
  },
  {
   "cell_type": "code",
   "execution_count": null,
   "metadata": {
    "executionInfo": {
     "elapsed": 552141,
     "status": "ok",
     "timestamp": 1601655055771,
     "user": {
      "displayName": "sainaya brid",
      "photoUrl": "",
      "userId": "16636977104828441428"
     },
     "user_tz": -330
    },
    "id": "Zyeq6_IJAZWo"
   },
   "outputs": [],
   "source": [
    "# make copies since we will shuffle\n",
    "A_copy = A.copy()\n",
    "mask_copy = mask.copy()\n",
    "A_test_copy = A_test.copy()\n",
    "mask_test_copy = mask_test.copy()"
   ]
  },
  {
   "cell_type": "code",
   "execution_count": null,
   "metadata": {
    "colab": {
     "base_uri": "https://localhost:8080/",
     "height": 52
    },
    "executionInfo": {
     "elapsed": 552136,
     "status": "ok",
     "timestamp": 1601655055772,
     "user": {
      "displayName": "sainaya brid",
      "photoUrl": "",
      "userId": "16636977104828441428"
     },
     "user_tz": -330
    },
    "id": "BE1XobJ3AcAu",
    "outputId": "4df0be6b-f827-4612-f29b-17c083159445"
   },
   "outputs": [],
   "source": [
    "N, M = A.shape\n",
    "print(\"N:\", N, \"M:\", M)\n",
    "print(\"N // batch_size:\", N // batch_size)"
   ]
  },
  {
   "cell_type": "code",
   "execution_count": null,
   "metadata": {
    "colab": {
     "base_uri": "https://localhost:8080/",
     "height": 35
    },
    "executionInfo": {
     "elapsed": 552130,
     "status": "ok",
     "timestamp": 1601655055772,
     "user": {
      "displayName": "sainaya brid",
      "photoUrl": "",
      "userId": "16636977104828441428"
     },
     "user_tz": -330
    },
    "id": "DfidwMiZAdzi",
    "outputId": "de82d595-2558-48c1-8899-ee233152778e"
   },
   "outputs": [],
   "source": [
    "# center the data\n",
    "mu = A.sum() / mask.sum()\n",
    "print(\"mu:\", mu)\n"
   ]
  },
  {
   "cell_type": "code",
   "execution_count": null,
   "metadata": {
    "executionInfo": {
     "elapsed": 552128,
     "status": "ok",
     "timestamp": 1601655055773,
     "user": {
      "displayName": "sainaya brid",
      "photoUrl": "",
      "userId": "16636977104828441428"
     },
     "user_tz": -330
    },
    "id": "C7FaTBTZAiTD"
   },
   "outputs": [],
   "source": [
    "# build the model - just a 1 hidden layer autoencoder\n",
    "i = Input(shape=(M,))\n",
    "# bigger hidden layer size seems to help!\n",
    "x = Dropout(0.7)(i)\n",
    "x = Dense(700, activation='relu', kernel_regularizer=l2(reg))(x)\n",
    "x = Dropout(0.5)(x)\n",
    "x = Dense(M, kernel_regularizer=l2(reg))(x)"
   ]
  },
  {
   "cell_type": "code",
   "execution_count": null,
   "metadata": {
    "executionInfo": {
     "elapsed": 552124,
     "status": "ok",
     "timestamp": 1601655055773,
     "user": {
      "displayName": "sainaya brid",
      "photoUrl": "",
      "userId": "16636977104828441428"
     },
     "user_tz": -330
    },
    "id": "OexHwozXAkFE"
   },
   "outputs": [],
   "source": [
    "def custom_loss(y_true, y_pred):\n",
    "  mask = K.cast(K.not_equal(y_true, 0), dtype='float32')\n",
    "  diff = y_pred - y_true\n",
    "  sqdiff = diff * diff * mask\n",
    "  sse = K.sum(K.sum(sqdiff))\n",
    "  n = K.sum(K.sum(mask))\n",
    "  return sse / n"
   ]
  },
  {
   "cell_type": "code",
   "execution_count": null,
   "metadata": {
    "executionInfo": {
     "elapsed": 552121,
     "status": "ok",
     "timestamp": 1601655055773,
     "user": {
      "displayName": "sainaya brid",
      "photoUrl": "",
      "userId": "16636977104828441428"
     },
     "user_tz": -330
    },
    "id": "dQIiSFReAl2W"
   },
   "outputs": [],
   "source": [
    "def generator(A, M):\n",
    "  while True:\n",
    "    A, M = shuffle(A, M)\n",
    "    for i in range(A.shape[0] // batch_size + 1):\n",
    "      upper = min((i+1)*batch_size, A.shape[0])\n",
    "      a = A[i*batch_size:upper].toarray()\n",
    "      m = M[i*batch_size:upper].toarray()\n",
    "      a = a - mu * m # must keep zeros at zero!\n",
    "      # m2 = (np.random.random(a.shape) > 0.5)\n",
    "      # noisy = a * m2\n",
    "      noisy = a # no noise\n",
    "      yield noisy, a\n"
   ]
  },
  {
   "cell_type": "code",
   "execution_count": null,
   "metadata": {
    "executionInfo": {
     "elapsed": 552120,
     "status": "ok",
     "timestamp": 1601655055774,
     "user": {
      "displayName": "sainaya brid",
      "photoUrl": "",
      "userId": "16636977104828441428"
     },
     "user_tz": -330
    },
    "id": "Q3Zz0Rf4AojC"
   },
   "outputs": [],
   "source": [
    "def test_generator(A, M, A_test, M_test):\n",
    "  # assumes A and A_test are in corresponding order\n",
    "  # both of size N x M\n",
    "  while True:\n",
    "    for i in range(A.shape[0] // batch_size + 1):\n",
    "      upper = min((i+1)*batch_size, A.shape[0])\n",
    "      a = A[i*batch_size:upper].toarray()\n",
    "      m = M[i*batch_size:upper].toarray()\n",
    "      at = A_test[i*batch_size:upper].toarray()\n",
    "      mt = M_test[i*batch_size:upper].toarray()\n",
    "      a = a - mu * m\n",
    "      at = at - mu * mt\n",
    "      yield a, at\n"
   ]
  },
  {
   "cell_type": "code",
   "execution_count": null,
   "metadata": {
    "executionInfo": {
     "elapsed": 552747,
     "status": "ok",
     "timestamp": 1601655056404,
     "user": {
      "displayName": "sainaya brid",
      "photoUrl": "",
      "userId": "16636977104828441428"
     },
     "user_tz": -330
    },
    "id": "MWqEtIz8AqWg"
   },
   "outputs": [],
   "source": [
    "model = Model(i, x)\n",
    "model.compile(\n",
    "  loss=custom_loss,\n",
    "  \n",
    "  #optimizer=SGD(lr=0.08, momentum=0.9),\n",
    "  optimizer='adam',\n",
    "  metrics=['accuracy'],\n",
    ")\n"
   ]
  },
  {
   "cell_type": "code",
   "execution_count": null,
   "metadata": {
    "colab": {
     "base_uri": "https://localhost:8080/",
     "height": 52
    },
    "id": "PJ55P76fAq94",
    "outputId": "33824225-8ab7-48c6-ce9f-93bb522c4bf1"
   },
   "outputs": [],
   "source": [
    "r = model.fit(\n",
    "  generator(A, mask),\n",
    "  validation_data=test_generator(A_copy, mask_copy, A_test_copy, mask_test_copy),\n",
    "  epochs=epochs,\n",
    "  steps_per_epoch=A.shape[0] // batch_size + 1,\n",
    "  validation_steps=A_test.shape[0] // batch_size + 1,\n",
    ")\n",
    "print(r.history.keys())\n",
    "\n"
   ]
  },
  {
   "cell_type": "code",
   "execution_count": null,
   "metadata": {
    "executionInfo": {
     "elapsed": 1518813,
     "status": "aborted",
     "timestamp": 1601656022479,
     "user": {
      "displayName": "sainaya brid",
      "photoUrl": "",
      "userId": "16636977104828441428"
     },
     "user_tz": -330
    },
    "id": "UOqO9FUZAug2"
   },
   "outputs": [],
   "source": [
    "# plot losses\n",
    "plt.plot(r.history['loss'], label=\"train loss\")\n",
    "plt.plot(r.history['val_loss'], label=\"test loss\")\n",
    "plt.legend()\n",
    "plt.show()"
   ]
  },
  {
   "cell_type": "code",
   "execution_count": null,
   "metadata": {
    "executionInfo": {
     "elapsed": 1518812,
     "status": "aborted",
     "timestamp": 1601656022481,
     "user": {
      "displayName": "sainaya brid",
      "photoUrl": "",
      "userId": "16636977104828441428"
     },
     "user_tz": -330
    },
    "id": "ZfoLbDRqAvDK"
   },
   "outputs": [],
   "source": [
    "# plot mse\n",
    "plt.plot(r.history['custom_loss'], label=\"train mse\")\n",
    "plt.plot(r.history['val_custom_loss'], label=\"test mse\")\n",
    "plt.legend()\n",
    "plt.show()"
   ]
  },
  {
   "cell_type": "code",
   "execution_count": null,
   "metadata": {},
   "outputs": [],
   "source": []
  }
 ],
 "metadata": {
  "accelerator": "GPU",
  "colab": {
   "authorship_tag": "ABX9TyM0eTUih/6nB1bYiZj5xR1W",
   "collapsed_sections": [],
   "mount_file_id": "1ceYPA8axnmZjnVRpR13VDqa4Bfy18ll7",
   "name": "Autoenc.ipynb",
   "provenance": []
  },
  "kernelspec": {
   "display_name": "Python 3",
   "language": "python",
   "name": "python3"
  },
  "language_info": {
   "codemirror_mode": {
    "name": "ipython",
    "version": 3
   },
   "file_extension": ".py",
   "mimetype": "text/x-python",
   "name": "python",
   "nbconvert_exporter": "python",
   "pygments_lexer": "ipython3",
   "version": "3.8.3"
  }
 },
 "nbformat": 4,
 "nbformat_minor": 1
}
